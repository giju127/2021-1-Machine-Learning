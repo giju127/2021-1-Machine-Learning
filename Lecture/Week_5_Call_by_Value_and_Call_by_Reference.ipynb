{
  "nbformat": 4,
  "nbformat_minor": 0,
  "metadata": {
    "colab": {
      "name": "Week 5 Call by Value and Call by Reference.ipynb",
      "provenance": []
    },
    "kernelspec": {
      "name": "python3",
      "display_name": "Python 3"
    },
    "language_info": {
      "name": "python"
    }
  },
  "cells": [
    {
      "cell_type": "markdown",
      "source": [
        "# Call by value\n",
        "\n",
        "In pass-by-value, the function receives a copy of the argument objects passed to it by the caller, stored in a new location in memory.\n",
        "\n",
        "**Immutable objects**: int, float, complex, string, tuple, frozen set (immutable version of set), bytes"
      ],
      "metadata": {
        "id": "167VmwMpamIc"
      }
    },
    {
      "cell_type": "code",
      "execution_count": 1,
      "metadata": {
        "colab": {
          "base_uri": "https://localhost:8080/",
          "height": 266
        },
        "id": "F6ZGv2rQaUs0",
        "outputId": "27c9986b-96a4-4345-d69f-88f2c7c925b2"
      },
      "outputs": [
        {
          "output_type": "stream",
          "name": "stdout",
          "text": [
            "num2 = 100\n",
            "result = None\n",
            "num2 = 100\n"
          ]
        },
        {
          "output_type": "error",
          "ename": "NameError",
          "evalue": "ignored",
          "traceback": [
            "\u001b[0;31m---------------------------------------------------------------------------\u001b[0m",
            "\u001b[0;31mNameError\u001b[0m                                 Traceback (most recent call last)",
            "\u001b[0;32m<ipython-input-1-88f1e583b62b>\u001b[0m in \u001b[0;36m<module>\u001b[0;34m()\u001b[0m\n\u001b[1;32m      7\u001b[0m \u001b[0mprint\u001b[0m\u001b[0;34m(\u001b[0m\u001b[0;34m\"result =\"\u001b[0m\u001b[0;34m,\u001b[0m \u001b[0mcallByValue\u001b[0m\u001b[0;34m(\u001b[0m\u001b[0mnum2\u001b[0m\u001b[0;34m)\u001b[0m\u001b[0;34m)\u001b[0m\u001b[0;34m\u001b[0m\u001b[0;34m\u001b[0m\u001b[0m\n\u001b[1;32m      8\u001b[0m \u001b[0mprint\u001b[0m\u001b[0;34m(\u001b[0m\u001b[0;34m\"num2 =\"\u001b[0m\u001b[0;34m,\u001b[0m \u001b[0mnum2\u001b[0m\u001b[0;34m)\u001b[0m\u001b[0;34m\u001b[0m\u001b[0;34m\u001b[0m\u001b[0m\n\u001b[0;32m----> 9\u001b[0;31m \u001b[0mprint\u001b[0m\u001b[0;34m(\u001b[0m\u001b[0;34m\"num2 =\"\u001b[0m\u001b[0;34m,\u001b[0m \u001b[0mnum1\u001b[0m\u001b[0;34m)\u001b[0m\u001b[0;34m\u001b[0m\u001b[0;34m\u001b[0m\u001b[0m\n\u001b[0m",
            "\u001b[0;31mNameError\u001b[0m: name 'num1' is not defined"
          ]
        }
      ],
      "source": [
        "def callByValue(num1):\n",
        "  num1 += 10\n",
        "  # return num1\n",
        "\n",
        "num2 = 100\n",
        "print(\"num2 =\", num2)\n",
        "print(\"result =\", callByValue(num2))\n",
        "print(\"num2 =\", num2)\n",
        "print(\"num2 =\", num1)"
      ]
    },
    {
      "cell_type": "code",
      "source": [
        "def callByValue(num1):\n",
        "  num1 += 10\n",
        "  # return num1\n",
        "\n",
        "num2 = 100\n",
        "print(\"num2 =\", num2)\n",
        "print(\"result =\", callByValue(num2))\n",
        "print(\"num2 =\", num2)"
      ],
      "metadata": {
        "colab": {
          "base_uri": "https://localhost:8080/"
        },
        "id": "gmSpS1I8aiy_",
        "outputId": "9ecef205-7d21-4661-88ec-c3e74471e030"
      },
      "execution_count": 2,
      "outputs": [
        {
          "output_type": "stream",
          "name": "stdout",
          "text": [
            "num2 = 100\n",
            "result = None\n",
            "num2 = 100\n"
          ]
        }
      ]
    },
    {
      "cell_type": "code",
      "source": [
        "def callByValue(num1):\n",
        "  num1 += 10\n",
        "  return num1\n",
        "\n",
        "num2 = 100\n",
        "print(\"num2 =\", num2)\n",
        "print(\"result =\", callByValue(num2))\n",
        "print(\"num2 =\", num2)"
      ],
      "metadata": {
        "colab": {
          "base_uri": "https://localhost:8080/"
        },
        "id": "IG0IpTVEa2U5",
        "outputId": "654eb8f4-c07a-4372-f04e-a849de636d0f"
      },
      "execution_count": 3,
      "outputs": [
        {
          "output_type": "stream",
          "name": "stdout",
          "text": [
            "num2 = 100\n",
            "result = 110\n",
            "num2 = 100\n"
          ]
        }
      ]
    },
    {
      "cell_type": "markdown",
      "source": [
        "# Call by reference\n",
        "\n",
        "In pass-by-value, the function receives reference to the argument objects passed to it by the caller, both pointing the same memory location.\n",
        "\n",
        "**Mutable objects**: list, dict, set, array"
      ],
      "metadata": {
        "id": "qPESDPbIbPJm"
      }
    },
    {
      "cell_type": "code",
      "source": [
        "def callByObjectTest(lst):\n",
        "  lst.append(4)\n",
        "\n",
        "lst = [1, 2, 3]\n",
        "print(lst)\n",
        "\n",
        "callByObjectTest(lst)\n",
        "print(lst)"
      ],
      "metadata": {
        "colab": {
          "base_uri": "https://localhost:8080/"
        },
        "id": "7ASWfC13bEkF",
        "outputId": "8581aaae-58bb-4d72-c206-6ff65dfeade9"
      },
      "execution_count": 5,
      "outputs": [
        {
          "output_type": "stream",
          "name": "stdout",
          "text": [
            "[1, 2, 3]\n",
            "[1, 2, 3, 4]\n"
          ]
        }
      ]
    },
    {
      "cell_type": "code",
      "source": [
        "def callByObjectTest(lst):\n",
        "  lst.append(4)\n",
        "  print(lst)\n",
        "\n",
        "lst = [1, 2, 3]\n",
        "print(lst)\n",
        "callByObjectTest(lst)"
      ],
      "metadata": {
        "colab": {
          "base_uri": "https://localhost:8080/"
        },
        "id": "uNn3GIIjbb7r",
        "outputId": "091f9066-46a3-41a3-ba18-abc5fea30b56"
      },
      "execution_count": 6,
      "outputs": [
        {
          "output_type": "stream",
          "name": "stdout",
          "text": [
            "[1, 2, 3]\n",
            "[1, 2, 3, 4]\n"
          ]
        }
      ]
    },
    {
      "cell_type": "code",
      "source": [
        "def callByObjectTest(lst2):\n",
        "  lst2.append(4)\n",
        "  print(lst2)\n",
        "\n",
        "lst = [1, 2, 3]\n",
        "print(lst)\n",
        "callByObjectTest(lst)"
      ],
      "metadata": {
        "colab": {
          "base_uri": "https://localhost:8080/"
        },
        "id": "JmdDgJQBbmUu",
        "outputId": "dd8c811a-f9fe-42c1-caf3-4e348b57ddcf"
      },
      "execution_count": 7,
      "outputs": [
        {
          "output_type": "stream",
          "name": "stdout",
          "text": [
            "[1, 2, 3]\n",
            "[1, 2, 3, 4]\n"
          ]
        }
      ]
    },
    {
      "cell_type": "code",
      "source": [
        "def callByObjectTest(lst2):\n",
        "  lst2.append(4)\n",
        "\n",
        "lst = [1, 2, 3]\n",
        "print(lst)\n",
        "\n",
        "callByObjectTest(lst)\n",
        "print(lst2)"
      ],
      "metadata": {
        "colab": {
          "base_uri": "https://localhost:8080/",
          "height": 229
        },
        "id": "HGf6S40nbxqT",
        "outputId": "733fd0a6-8c37-4662-d1e2-0f5dacbd53ad"
      },
      "execution_count": 8,
      "outputs": [
        {
          "output_type": "stream",
          "name": "stdout",
          "text": [
            "[1, 2, 3]\n"
          ]
        },
        {
          "output_type": "error",
          "ename": "NameError",
          "evalue": "ignored",
          "traceback": [
            "\u001b[0;31m---------------------------------------------------------------------------\u001b[0m",
            "\u001b[0;31mNameError\u001b[0m                                 Traceback (most recent call last)",
            "\u001b[0;32m<ipython-input-8-8d82b573b213>\u001b[0m in \u001b[0;36m<module>\u001b[0;34m()\u001b[0m\n\u001b[1;32m      6\u001b[0m \u001b[0;34m\u001b[0m\u001b[0m\n\u001b[1;32m      7\u001b[0m \u001b[0mcallByObjectTest\u001b[0m\u001b[0;34m(\u001b[0m\u001b[0mlst\u001b[0m\u001b[0;34m)\u001b[0m\u001b[0;34m\u001b[0m\u001b[0;34m\u001b[0m\u001b[0m\n\u001b[0;32m----> 8\u001b[0;31m \u001b[0mprint\u001b[0m\u001b[0;34m(\u001b[0m\u001b[0mlst2\u001b[0m\u001b[0;34m)\u001b[0m\u001b[0;34m\u001b[0m\u001b[0;34m\u001b[0m\u001b[0m\n\u001b[0m",
            "\u001b[0;31mNameError\u001b[0m: name 'lst2' is not defined"
          ]
        }
      ]
    },
    {
      "cell_type": "code",
      "source": [
        "def callByObjectTest(lst2):\n",
        "  lst2.append(4)\n",
        "\n",
        "lst = [1, 2, 3]\n",
        "print(lst)\n",
        "callByObjectTest(lst)\n",
        "print(lst)"
      ],
      "metadata": {
        "colab": {
          "base_uri": "https://localhost:8080/"
        },
        "id": "i0xiY9-Rb3ze",
        "outputId": "c97c667e-46a4-42a9-9bc4-381daf397485"
      },
      "execution_count": 9,
      "outputs": [
        {
          "output_type": "stream",
          "name": "stdout",
          "text": [
            "[1, 2, 3]\n",
            "[1, 2, 3, 4]\n"
          ]
        }
      ]
    },
    {
      "cell_type": "markdown",
      "source": [
        "# Array in Python"
      ],
      "metadata": {
        "id": "j9pXoDaCcK2_"
      }
    },
    {
      "cell_type": "code",
      "source": [
        "import numpy as np\n",
        "\n",
        "a = np.array([0, 1, 2, 3, 4])\n",
        "print('[1]', a)\n",
        "\n",
        "print(a[a>1])\n",
        "# call by reference\n",
        "a[a>1] = 88\n",
        "print('[2]', a)\n",
        "\n",
        "print(a[a>2][:1])\n",
        "# call by value\n",
        "# a[a>2][:1] = 99\n",
        "\n",
        "# call by reference\n",
        "a[a>2] = 99\n",
        "\n",
        "print('[3]', a)"
      ],
      "metadata": {
        "colab": {
          "base_uri": "https://localhost:8080/"
        },
        "id": "5SSHSDeocBEj",
        "outputId": "442e5c35-3e36-43f4-a73d-c5495b982850"
      },
      "execution_count": 11,
      "outputs": [
        {
          "output_type": "stream",
          "name": "stdout",
          "text": [
            "[1] [0 1 2 3 4]\n",
            "[2 3 4]\n",
            "[2] [ 0  1 88 88 88]\n",
            "[88]\n",
            "[3] [ 0  1 99 99 99]\n"
          ]
        }
      ]
    },
    {
      "cell_type": "code",
      "source": [
        "import numpy as np\n",
        "\n",
        "a = np.array([0, 1, 2, 3, 4])\n",
        "print('[1]', a)\n",
        "\n",
        "print(a[a>1])\n",
        "# call by reference\n",
        "a[a>1] = 88\n",
        "print('[2]', a)\n",
        "\n",
        "print(a[a>2][:1])\n",
        "# call by value\n",
        "a[a>2][:1] = 99\n",
        "\n",
        "# call by reference\n",
        "# a[a>2] = 99\n",
        "\n",
        "print('[3]', a)"
      ],
      "metadata": {
        "colab": {
          "base_uri": "https://localhost:8080/"
        },
        "id": "1ua3AUMDcxak",
        "outputId": "c88e8757-a49b-47f0-c76b-485bd2acb822"
      },
      "execution_count": 13,
      "outputs": [
        {
          "output_type": "stream",
          "name": "stdout",
          "text": [
            "[1] [0 1 2 3 4]\n",
            "[2 3 4]\n",
            "[2] [ 0  1 88 88 88]\n",
            "[88]\n",
            "[3] [ 0  1 88 88 88]\n"
          ]
        }
      ]
    },
    {
      "cell_type": "code",
      "source": [
        ""
      ],
      "metadata": {
        "id": "EXbBf7bQc-YJ"
      },
      "execution_count": null,
      "outputs": []
    }
  ]
}